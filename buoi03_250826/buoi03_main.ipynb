{
 "cells": [
  {
   "cell_type": "markdown",
   "id": "f8e485f1-f958-4abb-bc8b-7640763adb55",
   "metadata": {},
   "source": [
    "## Buổi 03: Phân tích dữ liệu với Python"
   ]
  },
  {
   "cell_type": "code",
   "execution_count": 23,
   "id": "718770fc-f30f-48c1-9a89-0ff18a80d927",
   "metadata": {},
   "outputs": [
    {
     "name": "stdout",
     "output_type": "stream",
     "text": [
      "COPYING     ch02.ipynb\tch06.ipynb  ch10.ipynb\tdatasets\n",
      "README.md   ch03.ipynb\tch07.ipynb  ch11.ipynb\texamples\n",
      "appa.ipynb  ch04.ipynb\tch08.ipynb  ch12.ipynb\trequirements.txt\n",
      "appb.ipynb  ch05.ipynb\tch09.ipynb  ch13.ipynb\n"
     ]
    }
   ],
   "source": [
    "# !rm -r pydata-book\n",
    "# !git clone https://github.com/wesm/pydata-book.git\n",
    "!ls pydata-book/\n",
    "# !sudo rm -r pydata-book/.git"
   ]
  },
  {
   "cell_type": "code",
   "execution_count": 24,
   "id": "af90dce1-4908-45dd-8e8d-83e3db5fa27c",
   "metadata": {},
   "outputs": [
    {
     "name": "stdout",
     "output_type": "stream",
     "text": [
      "On branch gh-pages\n",
      "Your branch is up to date with 'origin/gh-pages'.\n",
      "\n",
      "Changes not staged for commit:\n",
      "  (use \"git add/rm <file>...\" to update what will be committed)\n",
      "  (use \"git restore <file>...\" to discard changes in working directory)\n",
      "\t\u001b[31mdeleted:    ../buoi02_250816/.ipynb_checkpoints/Untitled-checkpoint.ipynb\u001b[m\n",
      "\t\u001b[31mdeleted:    ../buoi02_250816/.ipynb_checkpoints/ex1_calc-checkpoint.py\u001b[m\n",
      "\t\u001b[31mdeleted:    ../buoi02_250816/.ipynb_checkpoints/first-checkpoint.py\u001b[m\n",
      "\t\u001b[31mdeleted:    ../buoi02_250816/Untitled.ipynb\u001b[m\n",
      "\t\u001b[31mdeleted:    ../buoi02_250816/ex1_calc.py\u001b[m\n",
      "\t\u001b[31mdeleted:    ../buoi02_250816/ex2_scientific1.ipynb\u001b[m\n",
      "\t\u001b[31mdeleted:    ../buoi02_250816/ex2_scientific1.txt\u001b[m\n",
      "\t\u001b[31mdeleted:    ../buoi02_250816/ex4_scientific2.txt\u001b[m\n",
      "\t\u001b[31mdeleted:    ../buoi02_250816/first.py\u001b[m\n",
      "\t\u001b[31mdeleted:    ../buoi03_250819/.ipynb_checkpoints/python101_ST3-checkpoint.ipynb\u001b[m\n",
      "\t\u001b[31mdeleted:    ../buoi03_250819/first.cpp\u001b[m\n",
      "\t\u001b[31mdeleted:    ../buoi03_250819/first.py\u001b[m\n",
      "\t\u001b[31mdeleted:    ../buoi03_250819/python101_ST3.ipynb\u001b[m\n",
      "\t\u001b[31mdeleted:    ../pydata-book\u001b[m\n",
      "\n",
      "Untracked files:\n",
      "  (use \"git add <file>...\" to include in what will be committed)\n",
      "\t\u001b[31m../buoi01_250816/\u001b[m\n",
      "\t\u001b[31m../buoi02_250819/\u001b[m\n",
      "\t\u001b[31m./\u001b[m\n",
      "\n",
      "no changes added to commit (use \"git add\" and/or \"git commit -a\")\n"
     ]
    }
   ],
   "source": []
  },
  {
   "cell_type": "code",
   "execution_count": 27,
   "id": "07344065-a6ad-40a6-83a9-8c51f1f3393c",
   "metadata": {},
   "outputs": [],
   "source": [
    "!git add .\n",
    "    "
   ]
  },
  {
   "cell_type": "code",
   "execution_count": 28,
   "id": "e8c1fadb-fc4d-40c7-974b-06de1a91a641",
   "metadata": {},
   "outputs": [
    {
     "name": "stdout",
     "output_type": "stream",
     "text": [
      "[gh-pages 8a6a3f0] buoi03\n",
      " 3 files changed, 848 insertions(+)\n",
      " create mode 100644 buoi03_250823/.ipynb_checkpoints/Untitled-checkpoint.ipynb\n",
      " create mode 100644 buoi03_250823/Untitled.ipynb\n",
      " create mode 160000 buoi03_250823/pydata-book\n"
     ]
    }
   ],
   "source": [
    "!git commit -m \"buoi03\""
   ]
  },
  {
   "cell_type": "code",
   "execution_count": 29,
   "id": "3a847cf6-532e-45fc-bba6-9d71f8caaa3d",
   "metadata": {},
   "outputs": [
    {
     "name": "stdout",
     "output_type": "stream",
     "text": [
      "Enumerating objects: 7, done.\n",
      "Counting objects: 100% (7/7), done.\n",
      "Delta compression using up to 2 threads\n",
      "Compressing objects: 100% (6/6), done.\n",
      "Writing objects: 100% (6/6), 4.17 KiB | 853.00 KiB/s, done.\n",
      "Total 6 (delta 1), reused 0 (delta 0), pack-reused 0 (from 0)\n",
      "remote: Resolving deltas: 100% (1/1), completed with 1 local object.\u001b[K\n",
      "To https://github.com/tdung13/ueh25_kythuatlaptrinh_stata_python.git\n",
      "   28865e6..8a6a3f0  gh-pages -> gh-pages\n"
     ]
    }
   ],
   "source": [
    "!git push"
   ]
  },
  {
   "cell_type": "code",
   "execution_count": 30,
   "id": "96dcb6fd-5405-4cd6-9a7d-1baff31ec04b",
   "metadata": {},
   "outputs": [
    {
     "name": "stdout",
     "output_type": "stream",
     "text": [
      "[1, 2, 3, 4, 5]\n",
      "[1, 2, 3, 4, 5, 1, 2, 3, 4, 5]\n"
     ]
    }
   ],
   "source": [
    "v = list(range(1, 6))\n",
    "print(v)\n",
    "print(2 * v)"
   ]
  },
  {
   "cell_type": "code",
   "execution_count": 31,
   "id": "9a05df17-b856-42c9-ae60-a46d710fdd7f",
   "metadata": {},
   "outputs": [
    {
     "name": "stdout",
     "output_type": "stream",
     "text": [
      "[1 2 3 4 5]\n",
      "[ 2  4  6  8 10]\n"
     ]
    }
   ],
   "source": [
    "import numpy as np\n",
    "v = np.arange(1, 6)\n",
    "print(v)\n",
    "print(2 * v)"
   ]
  },
  {
   "cell_type": "code",
   "execution_count": 32,
   "id": "c43114d3-3853-4a11-bf1f-b99d60a5f8d1",
   "metadata": {},
   "outputs": [],
   "source": [
    "fruits = [\"apple\", \"banana\", \"cherry\"] #lists []\n",
    "colors = (\"red\", \"green\", \"blue\") #tuples ()\n",
    "animals = {'cat', 'dog'} #sets {}\n",
    "person = {\"name\" : \"Tom\", \"age\" : 20} #dictionaries {}"
   ]
  },
  {
   "cell_type": "code",
   "execution_count": 33,
   "id": "8a89bd02-7fa5-4984-8db9-e418ea9fe64a",
   "metadata": {},
   "outputs": [
    {
     "name": "stdout",
     "output_type": "stream",
     "text": [
      "4\n",
      "60\n",
      "70\n",
      "90\n"
     ]
    }
   ],
   "source": [
    "x = [60, 70, 80, 90]\n",
    "print(len(x))\n",
    "print(x[0])\n",
    "print(x[1])\n",
    "print(x[-1])"
   ]
  },
  {
   "cell_type": "code",
   "execution_count": 34,
   "id": "ec835298-036c-4f23-a773-eb2361d8f4b2",
   "metadata": {},
   "outputs": [
    {
     "name": "stdout",
     "output_type": "stream",
     "text": [
      "[1 2 3]\n",
      "[4 5 6]\n",
      "[ 4 10 18]\n"
     ]
    }
   ],
   "source": [
    "import numpy as np\n",
    "a = np.array([1, 2, 3])\n",
    "b = np.array([4, 5, 6])\n",
    "c = a * b\n",
    "print(a)\n",
    "print(b)\n",
    "print(c)"
   ]
  },
  {
   "cell_type": "code",
   "execution_count": 35,
   "id": "5875332a-5ff5-4631-b209-45439771c6ee",
   "metadata": {},
   "outputs": [
    {
     "name": "stdout",
     "output_type": "stream",
     "text": [
      "Mảng toàn số 0:\n",
      " [[0. 0. 0. 0. 0.]\n",
      " [0. 0. 0. 0. 0.]\n",
      " [0. 0. 0. 0. 0.]\n",
      " [0. 0. 0. 0. 0.]\n",
      " [0. 0. 0. 0. 0.]]\n",
      "Mảng toàn số 1:\n",
      " [[1. 1.]]\n",
      "Mảng toàn số 7:\n",
      " [[7 7]\n",
      " [7 7]]\n",
      "Ma trận đơn vị:\n",
      " [[1. 0.]\n",
      " [0. 1.]]\n",
      "Mảng ngẫu nhiên:\n",
      " [[0.03877065 0.72286845]\n",
      " [0.07247194 0.76603248]]\n"
     ]
    }
   ],
   "source": [
    "import numpy as np\n",
    "\n",
    "# Tạo mảng toàn số 0\n",
    "a = np.zeros((5, 5))\n",
    "print(\"Mảng toàn số 0:\\n\", a)\n",
    "\n",
    "# Tạo mảng toàn số 1\n",
    "b = np.ones((1, 2))\n",
    "print(\"Mảng toàn số 1:\\n\", b)\n",
    "\n",
    "# Tạo mảng với giá trị cố định là 7\n",
    "c = np.full((2, 2), 7)\n",
    "print(\"Mảng toàn số 7:\\n\", c)\n",
    "\n",
    "# Tạo ma trận đơn vị 2x2\n",
    "d = np.eye(2)\n",
    "print(\"Ma trận đơn vị:\\n\", d)\n",
    "\n",
    "# Tạo mảng với giá trị ngẫu nhiên từ 0 đến 1\n",
    "e = np.random.random((2, 2))\n",
    "print(\"Mảng ngẫu nhiên:\\n\", e)"
   ]
  },
  {
   "cell_type": "code",
   "execution_count": 36,
   "id": "da990c50-8402-4ecc-8518-4f9809fa7f74",
   "metadata": {},
   "outputs": [
    {
     "name": "stdout",
     "output_type": "stream",
     "text": [
      "[ 0  1  2  3  4  5  6  7  8  9 10 11 12 13 14]\n",
      "(15,)\n",
      "1\n",
      "int64\n",
      "[[ 0  1  2  3  4]\n",
      " [ 5  6  7  8  9]\n",
      " [10 11 12 13 14]]\n",
      "(3, 5)\n",
      "2\n",
      "int64\n"
     ]
    }
   ],
   "source": [
    "import numpy as np\n",
    "a = np.arange(15)\n",
    "print(a)\n",
    "print(a.shape)\n",
    "print(a.ndim)\n",
    "print(a.dtype)\n",
    "\n",
    "a = a.reshape(3,5)\n",
    "print(a)\n",
    "print(a.shape)\n",
    "print(a.ndim)\n",
    "print(a.dtype)"
   ]
  },
  {
   "cell_type": "code",
   "execution_count": 37,
   "id": "4c76e55f-627b-4b0d-ac40-49ccd64155aa",
   "metadata": {},
   "outputs": [
    {
     "name": "stdout",
     "output_type": "stream",
     "text": [
      "[1 2 3 4 5]\n"
     ]
    }
   ],
   "source": [
    "import numpy as np\n",
    "a = np.array([1,2,3,4,5])\n",
    "print(a)"
   ]
  },
  {
   "cell_type": "code",
   "execution_count": 38,
   "id": "028c5270-1922-415b-bca0-0bb080cf8efb",
   "metadata": {},
   "outputs": [
    {
     "name": "stdout",
     "output_type": "stream",
     "text": [
      "[[ 1  2  3  4  5]\n",
      " [ 6  7  8  9 10]\n",
      " [11 12 13 14 15]\n",
      " [16 17 18 19 20]]\n"
     ]
    }
   ],
   "source": [
    "b = np.array([\n",
    "    [1,2,3,4,5],\n",
    "    [6,7,8,9,10],\n",
    "    [11,12,13,14,15],\n",
    "    [16,17,18,19,20]\n",
    "])\n",
    "print(b)"
   ]
  },
  {
   "cell_type": "code",
   "execution_count": 39,
   "id": "d5bbb8a1-699c-466a-b4a6-4cb745c73d3c",
   "metadata": {},
   "outputs": [
    {
     "name": "stdout",
     "output_type": "stream",
     "text": [
      "[[ 0  1  2  3]\n",
      " [10 11 12 13]\n",
      " [20 21 22 23]]\n",
      "2\n",
      "(3, 4)\n",
      "int64\n"
     ]
    }
   ],
   "source": [
    "b = np.array([\n",
    "    [0,1,2,3],\n",
    "    [10,11,12,13],\n",
    "    [20,21,22,23],\n",
    "])\n",
    "print(b)\n",
    "print(b.ndim)\n",
    "print(b.shape)\n",
    "print(b.dtype)"
   ]
  },
  {
   "cell_type": "code",
   "execution_count": 40,
   "id": "2e3f1f6b-aebf-4519-a77a-48169ca2d5b9",
   "metadata": {},
   "outputs": [
    {
     "name": "stdout",
     "output_type": "stream",
     "text": [
      "[[0 1 2]\n",
      " [3 4 5]\n",
      " [6 7 8]]\n",
      "[[1 2]\n",
      " [4 5]] (2, 2)\n"
     ]
    }
   ],
   "source": [
    "a = np.arange(9).reshape(3,3)\n",
    "print(a)\n",
    "print(a[:2,1:], a[:2,1:].shape)"
   ]
  },
  {
   "cell_type": "markdown",
   "id": "ced25fd8-60d4-43d4-bce1-65f5b1588e4f",
   "metadata": {},
   "source": [
    "## Pandas"
   ]
  },
  {
   "cell_type": "code",
   "execution_count": 41,
   "id": "5fb81901-c10d-4491-a6ad-7cdb409f5831",
   "metadata": {},
   "outputs": [
    {
     "data": {
      "text/html": [
       "<div>\n",
       "<style scoped>\n",
       "    .dataframe tbody tr th:only-of-type {\n",
       "        vertical-align: middle;\n",
       "    }\n",
       "\n",
       "    .dataframe tbody tr th {\n",
       "        vertical-align: top;\n",
       "    }\n",
       "\n",
       "    .dataframe thead th {\n",
       "        text-align: right;\n",
       "    }\n",
       "</style>\n",
       "<table border=\"1\" class=\"dataframe\">\n",
       "  <thead>\n",
       "    <tr style=\"text-align: right;\">\n",
       "      <th></th>\n",
       "      <th>a</th>\n",
       "      <th>b</th>\n",
       "      <th>c</th>\n",
       "    </tr>\n",
       "  </thead>\n",
       "  <tbody>\n",
       "    <tr>\n",
       "      <th>1</th>\n",
       "      <td>4</td>\n",
       "      <td>7</td>\n",
       "      <td>10</td>\n",
       "    </tr>\n",
       "    <tr>\n",
       "      <th>2</th>\n",
       "      <td>5</td>\n",
       "      <td>8</td>\n",
       "      <td>11</td>\n",
       "    </tr>\n",
       "    <tr>\n",
       "      <th>3</th>\n",
       "      <td>6</td>\n",
       "      <td>9</td>\n",
       "      <td>12</td>\n",
       "    </tr>\n",
       "  </tbody>\n",
       "</table>\n",
       "</div>"
      ],
      "text/plain": [
       "   a  b   c\n",
       "1  4  7  10\n",
       "2  5  8  11\n",
       "3  6  9  12"
      ]
     },
     "metadata": {},
     "output_type": "display_data"
    },
    {
     "data": {
      "text/plain": [
       "1    4\n",
       "2    5\n",
       "3    6\n",
       "Name: a, dtype: int64"
      ]
     },
     "metadata": {},
     "output_type": "display_data"
    },
    {
     "data": {
      "text/plain": [
       "a     5\n",
       "b     8\n",
       "c    11\n",
       "Name: 2, dtype: int64"
      ]
     },
     "metadata": {},
     "output_type": "display_data"
    }
   ],
   "source": [
    "import pandas as pd\n",
    "from IPython.display import display\n",
    "\n",
    "df = pd.DataFrame({\n",
    "        \"a\": [4, 5, 6],\n",
    "        \"b\": [7, 8, 9],\n",
    "        \"c\": [10, 11, 12]\n",
    "    },\n",
    "        index = [1, 2, 3])\n",
    "\n",
    "display(df)\n",
    "display(df['a'])\n",
    "display(df.loc[2])"
   ]
  },
  {
   "cell_type": "code",
   "execution_count": 42,
   "id": "2d6a3bf9-d14b-4fa5-8b6d-c046efc24a45",
   "metadata": {},
   "outputs": [
    {
     "data": {
      "text/plain": [
       "pandas.core.frame.DataFrame"
      ]
     },
     "execution_count": 42,
     "metadata": {},
     "output_type": "execute_result"
    }
   ],
   "source": [
    "type(df)"
   ]
  },
  {
   "cell_type": "code",
   "execution_count": 43,
   "id": "d4db52d5-060d-4c17-b9aa-6f294d8f4a78",
   "metadata": {},
   "outputs": [
    {
     "name": "stdout",
     "output_type": "stream",
     "text": [
      "pandas imported\n"
     ]
    }
   ],
   "source": [
    "\n",
    "import numpy as np\n",
    "import pandas as pd\n",
    "import matplotlib.pyplot as plt\n",
    "print('pandas imported')"
   ]
  },
  {
   "cell_type": "code",
   "execution_count": 44,
   "id": "9f4cdaf4-3761-4bab-b0bf-074e1dae26be",
   "metadata": {},
   "outputs": [
    {
     "data": {
      "text/plain": [
       "0    1.0\n",
       "1    3.0\n",
       "2    5.0\n",
       "3    NaN\n",
       "4    6.0\n",
       "5    8.0\n",
       "dtype: float64"
      ]
     },
     "execution_count": 44,
     "metadata": {},
     "output_type": "execute_result"
    }
   ],
   "source": [
    "s = pd.Series([1,3,5,np.nan,6,8])\n",
    "s"
   ]
  },
  {
   "cell_type": "code",
   "execution_count": 45,
   "id": "2c706593-8d29-4c15-9cd0-8da253b1ba1c",
   "metadata": {},
   "outputs": [
    {
     "data": {
      "text/plain": [
       "DatetimeIndex(['2018-10-01', '2018-10-02', '2018-10-03', '2018-10-04',\n",
       "               '2018-10-05', '2018-10-06'],\n",
       "              dtype='datetime64[ns]', freq='D')"
      ]
     },
     "execution_count": 45,
     "metadata": {},
     "output_type": "execute_result"
    }
   ],
   "source": [
    "dates = pd.date_range('20181001', periods=6)\n",
    "dates"
   ]
  },
  {
   "cell_type": "code",
   "execution_count": 46,
   "id": "183abbbb-dd0f-4641-a655-920a98bc2958",
   "metadata": {},
   "outputs": [
    {
     "data": {
      "text/plain": [
       "0    1.0\n",
       "1    3.0\n",
       "2    5.0\n",
       "3    NaN\n",
       "4    6.0\n",
       "5    8.0\n",
       "dtype: float64"
      ]
     },
     "execution_count": 46,
     "metadata": {},
     "output_type": "execute_result"
    }
   ],
   "source": [
    "s\n"
   ]
  },
  {
   "cell_type": "code",
   "execution_count": 47,
   "id": "06838351-a522-47e8-878c-bcecbc8c211e",
   "metadata": {},
   "outputs": [
    {
     "data": {
      "text/html": [
       "<div>\n",
       "<style scoped>\n",
       "    .dataframe tbody tr th:only-of-type {\n",
       "        vertical-align: middle;\n",
       "    }\n",
       "\n",
       "    .dataframe tbody tr th {\n",
       "        vertical-align: top;\n",
       "    }\n",
       "\n",
       "    .dataframe thead th {\n",
       "        text-align: right;\n",
       "    }\n",
       "</style>\n",
       "<table border=\"1\" class=\"dataframe\">\n",
       "  <thead>\n",
       "    <tr style=\"text-align: right;\">\n",
       "      <th></th>\n",
       "      <th>A</th>\n",
       "    </tr>\n",
       "  </thead>\n",
       "  <tbody>\n",
       "    <tr>\n",
       "      <th>0</th>\n",
       "      <td>1.0</td>\n",
       "    </tr>\n",
       "    <tr>\n",
       "      <th>1</th>\n",
       "      <td>3.0</td>\n",
       "    </tr>\n",
       "    <tr>\n",
       "      <th>2</th>\n",
       "      <td>5.0</td>\n",
       "    </tr>\n",
       "    <tr>\n",
       "      <th>3</th>\n",
       "      <td>NaN</td>\n",
       "    </tr>\n",
       "    <tr>\n",
       "      <th>4</th>\n",
       "      <td>6.0</td>\n",
       "    </tr>\n",
       "    <tr>\n",
       "      <th>5</th>\n",
       "      <td>8.0</td>\n",
       "    </tr>\n",
       "  </tbody>\n",
       "</table>\n",
       "</div>"
      ],
      "text/plain": [
       "     A\n",
       "0  1.0\n",
       "1  3.0\n",
       "2  5.0\n",
       "3  NaN\n",
       "4  6.0\n",
       "5  8.0"
      ]
     },
     "execution_count": 47,
     "metadata": {},
     "output_type": "execute_result"
    }
   ],
   "source": [
    "df_a = pd.DataFrame(\n",
    "    {'A': pd.Series([1,3,5,np.nan,6,8])}, \n",
    "    dtype=float)\n",
    "df_a"
   ]
  },
  {
   "cell_type": "code",
   "execution_count": 48,
   "id": "610c0637-bfc6-49b8-bc8c-a54bdc2187ef",
   "metadata": {},
   "outputs": [
    {
     "data": {
      "text/html": [
       "<div>\n",
       "<style scoped>\n",
       "    .dataframe tbody tr th:only-of-type {\n",
       "        vertical-align: middle;\n",
       "    }\n",
       "\n",
       "    .dataframe tbody tr th {\n",
       "        vertical-align: top;\n",
       "    }\n",
       "\n",
       "    .dataframe thead th {\n",
       "        text-align: right;\n",
       "    }\n",
       "</style>\n",
       "<table border=\"1\" class=\"dataframe\">\n",
       "  <thead>\n",
       "    <tr style=\"text-align: right;\">\n",
       "      <th></th>\n",
       "      <th>A</th>\n",
       "      <th>B</th>\n",
       "      <th>C</th>\n",
       "      <th>D</th>\n",
       "    </tr>\n",
       "  </thead>\n",
       "  <tbody>\n",
       "    <tr>\n",
       "      <th>2018-10-01</th>\n",
       "      <td>1.247050</td>\n",
       "      <td>-1.404583</td>\n",
       "      <td>0.001364</td>\n",
       "      <td>0.970262</td>\n",
       "    </tr>\n",
       "    <tr>\n",
       "      <th>2018-10-02</th>\n",
       "      <td>0.020442</td>\n",
       "      <td>0.173448</td>\n",
       "      <td>-0.657651</td>\n",
       "      <td>2.609442</td>\n",
       "    </tr>\n",
       "    <tr>\n",
       "      <th>2018-10-03</th>\n",
       "      <td>0.317607</td>\n",
       "      <td>-1.907332</td>\n",
       "      <td>0.390034</td>\n",
       "      <td>-0.777304</td>\n",
       "    </tr>\n",
       "    <tr>\n",
       "      <th>2018-10-04</th>\n",
       "      <td>0.040511</td>\n",
       "      <td>-0.645765</td>\n",
       "      <td>-1.167925</td>\n",
       "      <td>-0.284365</td>\n",
       "    </tr>\n",
       "    <tr>\n",
       "      <th>2018-10-05</th>\n",
       "      <td>-0.477186</td>\n",
       "      <td>-0.030148</td>\n",
       "      <td>0.094505</td>\n",
       "      <td>-0.471058</td>\n",
       "    </tr>\n",
       "    <tr>\n",
       "      <th>2018-10-06</th>\n",
       "      <td>-0.133494</td>\n",
       "      <td>-0.862868</td>\n",
       "      <td>1.355430</td>\n",
       "      <td>-1.672548</td>\n",
       "    </tr>\n",
       "  </tbody>\n",
       "</table>\n",
       "</div>"
      ],
      "text/plain": [
       "                   A         B         C         D\n",
       "2018-10-01  1.247050 -1.404583  0.001364  0.970262\n",
       "2018-10-02  0.020442  0.173448 -0.657651  2.609442\n",
       "2018-10-03  0.317607 -1.907332  0.390034 -0.777304\n",
       "2018-10-04  0.040511 -0.645765 -1.167925 -0.284365\n",
       "2018-10-05 -0.477186 -0.030148  0.094505 -0.471058\n",
       "2018-10-06 -0.133494 -0.862868  1.355430 -1.672548"
      ]
     },
     "execution_count": 48,
     "metadata": {},
     "output_type": "execute_result"
    }
   ],
   "source": [
    "df = pd.DataFrame(\n",
    "    np.random.randn(6,4), \n",
    "    index=dates, \n",
    "    columns=list('ABCD'))\n",
    "df"
   ]
  },
  {
   "cell_type": "code",
   "execution_count": 49,
   "id": "ec277c20-d97d-4105-a323-c9f001e7d108",
   "metadata": {},
   "outputs": [
    {
     "data": {
      "text/html": [
       "<div>\n",
       "<style scoped>\n",
       "    .dataframe tbody tr th:only-of-type {\n",
       "        vertical-align: middle;\n",
       "    }\n",
       "\n",
       "    .dataframe tbody tr th {\n",
       "        vertical-align: top;\n",
       "    }\n",
       "\n",
       "    .dataframe thead th {\n",
       "        text-align: right;\n",
       "    }\n",
       "</style>\n",
       "<table border=\"1\" class=\"dataframe\">\n",
       "  <thead>\n",
       "    <tr style=\"text-align: right;\">\n",
       "      <th></th>\n",
       "      <th>A</th>\n",
       "      <th>B</th>\n",
       "      <th>C</th>\n",
       "      <th>D</th>\n",
       "      <th>E</th>\n",
       "    </tr>\n",
       "  </thead>\n",
       "  <tbody>\n",
       "    <tr>\n",
       "      <th>student1</th>\n",
       "      <td>-0.136698</td>\n",
       "      <td>-1.464438</td>\n",
       "      <td>-1.383975</td>\n",
       "      <td>-0.398557</td>\n",
       "      <td>0.521484</td>\n",
       "    </tr>\n",
       "    <tr>\n",
       "      <th>student2</th>\n",
       "      <td>0.115780</td>\n",
       "      <td>1.272647</td>\n",
       "      <td>-0.816136</td>\n",
       "      <td>-0.600388</td>\n",
       "      <td>-0.264244</td>\n",
       "    </tr>\n",
       "    <tr>\n",
       "      <th>student3</th>\n",
       "      <td>-0.931901</td>\n",
       "      <td>0.711288</td>\n",
       "      <td>1.165205</td>\n",
       "      <td>-1.258365</td>\n",
       "      <td>-0.085314</td>\n",
       "    </tr>\n",
       "  </tbody>\n",
       "</table>\n",
       "</div>"
      ],
      "text/plain": [
       "                 A         B         C         D         E\n",
       "student1 -0.136698 -1.464438 -1.383975 -0.398557  0.521484\n",
       "student2  0.115780  1.272647 -0.816136 -0.600388 -0.264244\n",
       "student3 -0.931901  0.711288  1.165205 -1.258365 -0.085314"
      ]
     },
     "execution_count": 49,
     "metadata": {},
     "output_type": "execute_result"
    }
   ],
   "source": [
    "df = pd.DataFrame(\n",
    "    np.random.randn(3,5), \n",
    "    index=['student1','student2','student3'], \n",
    "    columns=list('ABCDE'))\n",
    "df"
   ]
  },
  {
   "cell_type": "code",
   "execution_count": 50,
   "id": "c2e8bea3-2389-429d-b2db-3179ffc34861",
   "metadata": {},
   "outputs": [
    {
     "data": {
      "text/html": [
       "<div>\n",
       "<style scoped>\n",
       "    .dataframe tbody tr th:only-of-type {\n",
       "        vertical-align: middle;\n",
       "    }\n",
       "\n",
       "    .dataframe tbody tr th {\n",
       "        vertical-align: top;\n",
       "    }\n",
       "\n",
       "    .dataframe thead th {\n",
       "        text-align: right;\n",
       "    }\n",
       "</style>\n",
       "<table border=\"1\" class=\"dataframe\">\n",
       "  <thead>\n",
       "    <tr style=\"text-align: right;\">\n",
       "      <th></th>\n",
       "      <th>A</th>\n",
       "      <th>B</th>\n",
       "      <th>C</th>\n",
       "      <th>D</th>\n",
       "      <th>E</th>\n",
       "      <th>F</th>\n",
       "    </tr>\n",
       "  </thead>\n",
       "  <tbody>\n",
       "    <tr>\n",
       "      <th>0</th>\n",
       "      <td>1.0</td>\n",
       "      <td>2018-10-01</td>\n",
       "      <td>2.5</td>\n",
       "      <td>3</td>\n",
       "      <td>test</td>\n",
       "      <td>foo</td>\n",
       "    </tr>\n",
       "    <tr>\n",
       "      <th>1</th>\n",
       "      <td>1.0</td>\n",
       "      <td>2018-10-01</td>\n",
       "      <td>2.5</td>\n",
       "      <td>3</td>\n",
       "      <td>train</td>\n",
       "      <td>foo</td>\n",
       "    </tr>\n",
       "    <tr>\n",
       "      <th>2</th>\n",
       "      <td>1.0</td>\n",
       "      <td>2018-10-01</td>\n",
       "      <td>2.5</td>\n",
       "      <td>3</td>\n",
       "      <td>test</td>\n",
       "      <td>foo</td>\n",
       "    </tr>\n",
       "    <tr>\n",
       "      <th>3</th>\n",
       "      <td>1.0</td>\n",
       "      <td>2018-10-01</td>\n",
       "      <td>2.5</td>\n",
       "      <td>3</td>\n",
       "      <td>train</td>\n",
       "      <td>foo</td>\n",
       "    </tr>\n",
       "  </tbody>\n",
       "</table>\n",
       "</div>"
      ],
      "text/plain": [
       "     A          B    C  D      E    F\n",
       "0  1.0 2018-10-01  2.5  3   test  foo\n",
       "1  1.0 2018-10-01  2.5  3  train  foo\n",
       "2  1.0 2018-10-01  2.5  3   test  foo\n",
       "3  1.0 2018-10-01  2.5  3  train  foo"
      ]
     },
     "execution_count": 50,
     "metadata": {},
     "output_type": "execute_result"
    }
   ],
   "source": [
    "df2 = pd.DataFrame(\n",
    "    { \n",
    "        'A' : 1.,\n",
    "        'B' : pd.Timestamp('20181001'),\n",
    "        'C' : pd.Series(2.5,index=list(range(4)),dtype='float32'),\n",
    "        'D' : np.array([3] * 4,dtype='int32'),\n",
    "        'E' : pd.Categorical([\"test\",\"train\",\"test\",\"train\"]),\n",
    "        'F' : 'foo' })\n",
    "df2"
   ]
  },
  {
   "cell_type": "code",
   "execution_count": 51,
   "id": "ab8af88f-0613-40ea-8a54-09222b1fede2",
   "metadata": {},
   "outputs": [
    {
     "data": {
      "text/html": [
       "<div>\n",
       "<style scoped>\n",
       "    .dataframe tbody tr th:only-of-type {\n",
       "        vertical-align: middle;\n",
       "    }\n",
       "\n",
       "    .dataframe tbody tr th {\n",
       "        vertical-align: top;\n",
       "    }\n",
       "\n",
       "    .dataframe thead th {\n",
       "        text-align: right;\n",
       "    }\n",
       "</style>\n",
       "<table border=\"1\" class=\"dataframe\">\n",
       "  <thead>\n",
       "    <tr style=\"text-align: right;\">\n",
       "      <th></th>\n",
       "      <th>A</th>\n",
       "      <th>B</th>\n",
       "      <th>C</th>\n",
       "      <th>D</th>\n",
       "      <th>E</th>\n",
       "      <th>F</th>\n",
       "    </tr>\n",
       "  </thead>\n",
       "  <tbody>\n",
       "    <tr>\n",
       "      <th>0</th>\n",
       "      <td>1.0</td>\n",
       "      <td>2018-10-01</td>\n",
       "      <td>2.5</td>\n",
       "      <td>3</td>\n",
       "      <td>test</td>\n",
       "      <td>foo</td>\n",
       "    </tr>\n",
       "    <tr>\n",
       "      <th>1</th>\n",
       "      <td>1.0</td>\n",
       "      <td>2018-10-01</td>\n",
       "      <td>2.5</td>\n",
       "      <td>3</td>\n",
       "      <td>train</td>\n",
       "      <td>foo</td>\n",
       "    </tr>\n",
       "    <tr>\n",
       "      <th>2</th>\n",
       "      <td>1.0</td>\n",
       "      <td>2018-10-01</td>\n",
       "      <td>2.5</td>\n",
       "      <td>3</td>\n",
       "      <td>test</td>\n",
       "      <td>foo</td>\n",
       "    </tr>\n",
       "    <tr>\n",
       "      <th>3</th>\n",
       "      <td>1.0</td>\n",
       "      <td>2018-10-01</td>\n",
       "      <td>2.5</td>\n",
       "      <td>3</td>\n",
       "      <td>train</td>\n",
       "      <td>foo</td>\n",
       "    </tr>\n",
       "  </tbody>\n",
       "</table>\n",
       "</div>"
      ],
      "text/plain": [
       "     A          B    C  D      E    F\n",
       "0  1.0 2018-10-01  2.5  3   test  foo\n",
       "1  1.0 2018-10-01  2.5  3  train  foo\n",
       "2  1.0 2018-10-01  2.5  3   test  foo\n",
       "3  1.0 2018-10-01  2.5  3  train  foo"
      ]
     },
     "execution_count": 51,
     "metadata": {},
     "output_type": "execute_result"
    }
   ],
   "source": [
    "df3 = pd.DataFrame(\n",
    "    [\n",
    "        {'A':1.0, 'B': pd.Timestamp('20181001'), 'C': 2.5, 'D': 3, 'E': 'test', 'F': 'foo'},\n",
    "        {'A':1.0, 'B': pd.Timestamp('20181001'), 'C': 2.5, 'D': 3, 'E': 'train', 'F': 'foo'},\n",
    "        {'A':1.0, 'B': pd.Timestamp('20181001'), 'C': 2.5, 'D': 3, 'E': 'test', 'F': 'foo'},\n",
    "        {'A':1.0, 'B': pd.Timestamp('20181001'), 'C': 2.5, 'D': 3, 'E': 'train', 'F': 'foo'}\n",
    "    ]\n",
    ")\n",
    "df3"
   ]
  },
  {
   "cell_type": "markdown",
   "id": "703a063a-8767-4c7f-b713-be15a2b19d6b",
   "metadata": {},
   "source": [
    "## Kết thúc"
   ]
  }
 ],
 "metadata": {
  "kernelspec": {
   "display_name": "Python 3 (ipykernel)",
   "language": "python",
   "name": "python3"
  },
  "language_info": {
   "codemirror_mode": {
    "name": "ipython",
    "version": 3
   },
   "file_extension": ".py",
   "mimetype": "text/x-python",
   "name": "python",
   "nbconvert_exporter": "python",
   "pygments_lexer": "ipython3",
   "version": "3.12.1"
  }
 },
 "nbformat": 4,
 "nbformat_minor": 5
}
