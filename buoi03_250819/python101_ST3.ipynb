{
 "cells": [
  {
   "cell_type": "markdown",
   "id": "6366419e-dcfa-436f-80ec-d35b5a90169a",
   "metadata": {},
   "source": [
    "## Python 101"
   ]
  },
  {
   "cell_type": "code",
   "execution_count": 1,
   "id": "c198bbe9-54d8-42b8-a43f-411aaf2f10e8",
   "metadata": {},
   "outputs": [
    {
     "name": "stdout",
     "output_type": "stream",
     "text": [
      "Untitled.ipynb\n"
     ]
    }
   ],
   "source": [
    "!ls"
   ]
  },
  {
   "cell_type": "markdown",
   "id": "8b87dc33-d89c-4f85-8eef-c7601193c9f9",
   "metadata": {},
   "source": [
    "### Trình biên dịch (compiler) vs. Thông dịch"
   ]
  },
  {
   "cell_type": "code",
   "execution_count": 3,
   "id": "99c37a94-04bd-4c51-8a13-9e8219bc8cc0",
   "metadata": {},
   "outputs": [
    {
     "name": "stdout",
     "output_type": "stream",
     "text": [
      "Writing first.cpp\n"
     ]
    }
   ],
   "source": [
    "%%writefile first.cpp\n",
    "#include \n",
    "int main(void) {\n",
    "  int a=27, b=6, c;\n",
    "  c = a%b;\n",
    "  printf(\"The value of c is %d.\\n\", c);\n",
    "  return 0;\n",
    "}"
   ]
  },
  {
   "cell_type": "code",
   "execution_count": 4,
   "id": "40c3e549-2019-4a7a-a08d-fd6b1ce73726",
   "metadata": {},
   "outputs": [
    {
     "name": "stdout",
     "output_type": "stream",
     "text": [
      "#include \n",
      "int main(void) {\n",
      "  int a=27, b=6, c;\n",
      "  c = a%b;\n",
      "  printf(\"The value of c is %d.\\n\", c);\n",
      "  return 0;\n",
      "}\n",
      "--------------------------------------------------\n",
      "Compile...\n",
      "\u001b[01m\u001b[Kfirst.cpp:1:10:\u001b[m\u001b[K \u001b[01;31m\u001b[Kerror: \u001b[m\u001b[K#include expects \"FILENAME\" or <FILENAME>\n",
      "    1 | #include\n",
      "      |          \u001b[01;31m\u001b[K^\u001b[m\u001b[K\n",
      "\u001b[01m\u001b[Kfirst.cpp:\u001b[m\u001b[K In function ‘\u001b[01m\u001b[Kint\u001b[01;32m\u001b[K main\u001b[m\u001b[K()\u001b[m\u001b[K’:\n",
      "\u001b[01m\u001b[Kfirst.cpp:5:3:\u001b[m\u001b[K \u001b[01;31m\u001b[Kerror: \u001b[m\u001b[K‘\u001b[01m\u001b[Kprintf\u001b[m\u001b[K’ was not declared in this scope\n",
      "    5 |   \u001b[01;31m\u001b[Kprintf\u001b[m\u001b[K(\"The value of c is %d.\\n\", c);\n",
      "      |   \u001b[01;31m\u001b[K^~~~~~\u001b[m\u001b[K\n",
      "\u001b[01m\u001b[Kfirst.cpp:1:1:\u001b[m\u001b[K \u001b[01;36m\u001b[Knote: \u001b[m\u001b[K‘\u001b[01m\u001b[Kprintf\u001b[m\u001b[K’ is defined in header ‘\u001b[01m\u001b[K<cstdio>\u001b[m\u001b[K’; did you forget to ‘\u001b[01m\u001b[K#include <cstdio>\u001b[m\u001b[K’?\n",
      "  +++ |+\u001b[32m\u001b[K#include <cstdio>\u001b[m\u001b[K\n",
      "    1 | #include\n",
      "Untitled.ipynb\tfirst.cpp\n",
      "--------------------------------------------------\n",
      "Execute...\n",
      "/bin/bash: line 1: ./first: No such file or directory\n"
     ]
    }
   ],
   "source": [
    "!cat first.cpp\n",
    "print(\"-\"*50)\n",
    "\n",
    "print('Compile...')\n",
    "!gcc first.cpp -o first\n",
    "!ls\n",
    "\n",
    "print(\"-\"*50)\n",
    "print('Execute...')\n",
    "!./first"
   ]
  },
  {
   "cell_type": "code",
   "execution_count": 5,
   "id": "deb93e53-b1e1-43d3-8d28-ebe38749ce91",
   "metadata": {},
   "outputs": [
    {
     "name": "stdout",
     "output_type": "stream",
     "text": [
      "Writing first.py\n"
     ]
    }
   ],
   "source": [
    "%%writefile first.py\n",
    "a = 27\n",
    "b = 6\n",
    "c = a%b;\n",
    "print(\"The value of c is %d.\\n\"% c)"
   ]
  },
  {
   "cell_type": "code",
   "execution_count": 6,
   "id": "6f756458-ba28-4690-8dbf-95a565ad944d",
   "metadata": {},
   "outputs": [
    {
     "name": "stdout",
     "output_type": "stream",
     "text": [
      "a = 27\n",
      "b = 6\n",
      "c = a%b;\n",
      "print(\"The value of c is %d.\\n\"% c)\n",
      "--------------------------------------------------\n",
      "Interpret...\n",
      "The value of c is 3.\n",
      "\n"
     ]
    }
   ],
   "source": [
    "!cat first.py\n",
    "print(\"-\"*50)\n",
    "print(\"Interpret...\")\n",
    "%run first.py\n",
    "     "
   ]
  },
  {
   "cell_type": "code",
   "execution_count": 7,
   "id": "2aabae0b-aec9-42fd-b3e0-a2955454bed9",
   "metadata": {},
   "outputs": [
    {
     "name": "stdout",
     "output_type": "stream",
     "text": [
      "27 6 3\n"
     ]
    }
   ],
   "source": [
    "\n",
    "print(a, b, c)"
   ]
  },
  {
   "cell_type": "markdown",
   "id": "1a092300-2595-475e-a90a-52726f001f6c",
   "metadata": {},
   "source": [
    "### Ngôn ngữ lập trình"
   ]
  },
  {
   "cell_type": "code",
   "execution_count": 8,
   "id": "9136ef87-dc9c-4a89-b026-cdacd4d5aecf",
   "metadata": {},
   "outputs": [],
   "source": [
    "from IPython.display import display"
   ]
  },
  {
   "cell_type": "code",
   "execution_count": 9,
   "id": "9eedf97d-42e5-4275-a8da-6704d5ce7799",
   "metadata": {},
   "outputs": [
    {
     "name": "stdout",
     "output_type": "stream",
     "text": [
      "Hello, World!\n"
     ]
    },
    {
     "data": {
      "text/plain": [
       "'Hello, World!'"
      ]
     },
     "metadata": {},
     "output_type": "display_data"
    }
   ],
   "source": [
    "print(\"Hello, World!\")\n",
    "display('Hello, World!')"
   ]
  },
  {
   "cell_type": "code",
   "execution_count": 10,
   "id": "0c5f631a-2c97-4352-acda-52d384e3c339",
   "metadata": {},
   "outputs": [
    {
     "name": "stdout",
     "output_type": "stream",
     "text": [
      "comment\n"
     ]
    }
   ],
   "source": [
    "# comment\n",
    "'''\n",
    "comment\n",
    "'''\n",
    "print('comment')"
   ]
  },
  {
   "cell_type": "code",
   "execution_count": 11,
   "id": "b20b6646-888e-4378-b22c-6371bbe3a7ce",
   "metadata": {},
   "outputs": [
    {
     "name": "stdout",
     "output_type": "stream",
     "text": [
      "Pass\n"
     ]
    }
   ],
   "source": [
    "# indent\n",
    "score = 80\n",
    "if score >= 60:\n",
    "  print(\"Pass\")\n",
    "  pass # dummy"
   ]
  },
  {
   "cell_type": "code",
   "execution_count": 12,
   "id": "03c16346-0fe4-40e8-89b9-bfbf68186aee",
   "metadata": {},
   "outputs": [
    {
     "name": "stdout",
     "output_type": "stream",
     "text": [
      "2 <class 'int'>\n",
      "2.5 <class 'float'>\n",
      "Hello <class 'str'>\n",
      "\n",
      "Hello\n",
      " <class 'str'>\n"
     ]
    }
   ],
   "source": [
    "# variable\n",
    "x = 2\n",
    "print(x, type(x))\n",
    "\n",
    "price = 2.5\n",
    "print(price, type(price))\n",
    "\n",
    "word = 'Hello'\n",
    "word = \"Hello\"\n",
    "print(word, type(word))\n",
    "\n",
    "word = \"\"\"\n",
    "Hello\n",
    "\"\"\"\n",
    "print(word, type(word))"
   ]
  },
  {
   "cell_type": "code",
   "execution_count": 13,
   "id": "4ba00906-eb95-4076-aaa3-9cc6f39c7968",
   "metadata": {},
   "outputs": [
    {
     "name": "stdout",
     "output_type": "stream",
     "text": [
      "x = 2, y = 3\n",
      "x = 2, y = 3\n"
     ]
    }
   ],
   "source": [
    "x = 2\n",
    "y = x + 1\n",
    "print(f'x = {x}, y = {y}')\n",
    "print('x = %d, y = %d'%(x, y))"
   ]
  },
  {
   "cell_type": "markdown",
   "id": "d303c02c-6cbd-4237-9c31-3d4f0fcd85d2",
   "metadata": {},
   "source": [
    "## Kết thúc"
   ]
  }
 ],
 "metadata": {
  "kernelspec": {
   "display_name": "Python 3 (ipykernel)",
   "language": "python",
   "name": "python3"
  },
  "language_info": {
   "codemirror_mode": {
    "name": "ipython",
    "version": 3
   },
   "file_extension": ".py",
   "mimetype": "text/x-python",
   "name": "python",
   "nbconvert_exporter": "python",
   "pygments_lexer": "ipython3",
   "version": "3.12.1"
  }
 },
 "nbformat": 4,
 "nbformat_minor": 5
}
